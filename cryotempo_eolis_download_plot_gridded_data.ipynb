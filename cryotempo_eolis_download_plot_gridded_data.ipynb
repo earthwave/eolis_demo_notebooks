{
 "cells": [
  {
   "attachments": {},
   "cell_type": "markdown",
   "metadata": {},
   "source": [
    "<img src=\"cryotempo_logo.png\" alt=\"logo\" width=\"200\"/> <img src=\"esa_logo.png\" alt=\"esa\" width=\"170\"/> <img src=\"earthwave_logo.png\" alt=\"earthwave\" width=\"150\"/> <img src=\"UoE_logo.png\" alt=\"uoe\" width=\"200\"/>"
   ]
  },
  {
   "cell_type": "markdown",
   "metadata": {},
   "source": [
    "##<strong>*This is a Jupyter notebook that demonstrates how to download and use Cryotempo-EOLIS data, downloaded from cs2eo.org. Here, we will read in some gridded data and then plot DEMs*</strong> \n",
    "- - - - - - - - - - - - - - - - - - - - - - - - - - - - - - - - - - - - - - - - - - - - - - - - - - - - - - "
   ]
  },
  {
   "cell_type": "markdown",
   "metadata": {},
   "source": [
    "To run this notebook, you will need to make sure that the folllowing packages are installed in your python environment (all can be installed via pip/conda)\n",
    "\n",
    "    - matplotlib: for plotting\n",
    "    - datetime: for handling timestamps\n",
    "    - contextily: for adding basemaps to plots\n",
    "    - specklia: for downloading data\n",
    "- - - - - - - - - - - - - - - - - - - - - - - - - - - - - - - - - - - - - - - - - - - - - - - - - - - - - - "
   ]
  },
  {
   "cell_type": "code",
   "execution_count": null,
   "metadata": {},
   "outputs": [],
   "source": [
    "!pip install contextily\n",
    "!pip install specklia"
   ]
  },
  {
   "cell_type": "markdown",
   "metadata": {},
   "source": [
    "###<strong>1) Download Data:\n",
    "\n",
    "Regardless of whether you are using the Google Colab environment, or have downloaded this notebook to your local drive, you will first need to download some data. You can use this notebook to plot any CryoTEMPO-EOLIS gridded data that you choose. For a quick example, follow the below instructions to download a small example dataset.</strong>"
   ]
  },
  {
   "cell_type": "markdown",
   "metadata": {},
   "source": [
    "- - - - - - - - - - - - - - - - - - - - - - - - - - - - - - - - - - - - - - - - - - - - - - - - - - - - - - "
   ]
  },
  {
   "cell_type": "markdown",
   "metadata": {},
   "source": [
    "Imports necessary to run the rest of the code"
   ]
  },
  {
   "cell_type": "code",
   "execution_count": 28,
   "metadata": {},
   "outputs": [],
   "source": [
    "import datetime\n",
    "import contextily as ctx\n",
    "import matplotlib.pyplot as plt\n",
    "from mpl_toolkits.axes_grid1.inset_locator import inset_axes\n",
    "from shapely import Polygon\n",
    "from specklia import Specklia\n",
    "plt.rcParams.update({'font.size': 14})"
   ]
  },
  {
   "attachments": {},
   "cell_type": "markdown",
   "metadata": {},
   "source": [
    "<strong>The following cells download gridded product data for Iceland from Specklia, Earthwave's geospatial point cloud database.</strong>"
   ]
  },
  {
   "cell_type": "markdown",
   "metadata": {},
   "source": [
    "First, we will instantiate our Specklia Python client. To run the code, you will need to generate your own Specklia API key."
   ]
  },
  {
   "cell_type": "code",
   "execution_count": 29,
   "metadata": {},
   "outputs": [],
   "source": [
    "user_api_key = input('Please generate your own key using https://specklia.earthwave.co.uk/ApiKeys and paste it here:')\n",
    "specklia_client = Specklia(user_api_key)"
   ]
  },
  {
   "cell_type": "markdown",
   "metadata": {},
   "source": [
    "Next, we define our area of interest and query Specklia for data:"
   ]
  },
  {
   "cell_type": "code",
   "execution_count": null,
   "metadata": {},
   "outputs": [],
   "source": [
    "iceland_polygon = Polygon(([-26., 63.], [-26., 68.], [-11., 68.], [-11., 63.], [-26., 63.]))\n",
    "\n",
    "dataset_name = 'CryoTEMPO-EOLIS Gridded Product'\n",
    "available_datasets = specklia_client.list_datasets()\n",
    "gridded_product_dataset = available_datasets[\n",
    "    available_datasets['dataset_name'] == dataset_name].iloc[0]\n",
    "\n",
    "gridded_product_data, sources = specklia_client.query_dataset(\n",
    "    dataset_id=gridded_product_dataset['dataset_id'],\n",
    "    epsg4326_polygon=iceland_polygon,\n",
    "    min_datetime=datetime.datetime(2023,11,1),\n",
    "    max_datetime=datetime.datetime(2023,11,30,23,59,59))\n",
    "\n",
    "print(\n",
    "    f'Query complete, {len(gridded_product_data)} points returned, drawn from {len(sources)} original sources.')\n"
   ]
  },
  {
   "cell_type": "markdown",
   "metadata": {},
   "source": [
    "Next, we can check the metadata for the gridded product sources. In the output of this command, we can see lots of additional information assosciated with the gridded product files, including projection information, product version and support information."
   ]
  },
  {
   "cell_type": "code",
   "execution_count": null,
   "metadata": {},
   "outputs": [],
   "source": [
    "sources[0]"
   ]
  },
  {
   "cell_type": "markdown",
   "metadata": {},
   "source": [
    "We can use the source information to determine the geospatial projection of the x and y columns:"
   ]
  },
  {
   "cell_type": "code",
   "execution_count": null,
   "metadata": {},
   "outputs": [],
   "source": [
    "projections = []\n",
    "for i, source in enumerate(sources):\n",
    "    projection_for_source = source[\"source_information\"][\"geospatial_projection\"]\n",
    "    print(f'X and Y columns in source # {i+1} are in projection: {projection_for_source}')\n",
    "    projections.append(projection_for_source)\n",
    "\n",
    "if len(set(projections)) == 1:\n",
    "    print('All the sources use the same projection! We will need this later on.')\n",
    "    geospatial_projection = projections[0]\n",
    "else:\n",
    "    raise ValueError('You queried an area that covers multiple EOLIS regions - the X and Y columns in data returned by your query are not in the same projection. Please run a different query or reproject before continuing!')"
   ]
  },
  {
   "cell_type": "markdown",
   "metadata": {},
   "source": [
    "If we run the cell below, we can see that the variables available for analysis include a time, x and y position, elevation and an associated uncertainty value. For more information about the derivation of these variables, see the CryoTEMPO-EOLIS ATBD, available at https://cryotempo-eolis.org/product-description/"
   ]
  },
  {
   "cell_type": "code",
   "execution_count": null,
   "metadata": {},
   "outputs": [],
   "source": [
    "print('Variables returned by query: ', gridded_product_data.columns)"
   ]
  },
  {
   "cell_type": "markdown",
   "metadata": {},
   "source": [
    "- - - - - - - - - - - - - - - - - - - - - - - - - - - - - - - - - - - - - - - - - - - - - - - - - - - - - - \n",
    "###<strong>2) Use the Cryotempo-EOLIS gridded product to plot a selection of DEMS, and show the difference in elevation for a specific time window</strong>"
   ]
  },
  {
   "attachments": {},
   "cell_type": "markdown",
   "metadata": {},
   "source": [
    "Below, we plot the 2-dimensional elevation data for the Vatnajokull glacier."
   ]
  },
  {
   "cell_type": "code",
   "execution_count": null,
   "metadata": {},
   "outputs": [],
   "source": [
    "fig, ax = plt.subplots(nrows=1, ncols=1, figsize=(20, 10))\n",
    "scatter = ax.scatter(gridded_product_data['x'],gridded_product_data['y'], c=gridded_product_data['elevation'], cmap='viridis', vmin=0, vmax=2000, s=20)\n",
    "ax.set_xlabel('x [m]')\n",
    "ax.set_ylabel('y [m]')\n",
    "\n",
    "# Add color bar\n",
    "cbar = plt.colorbar(scatter)\n",
    "cbar.set_label('Elevation [m]')\n",
    "plt.title(f\"CryoTEMPO-EOLIS DEM for ICELAND, {str(datetime.datetime.fromtimestamp(gridded_product_data['timestamp'].iloc[0]).date())}\")\n",
    "\n",
    "# set high resolution background map for zoomed in plot of Vatnajokull\n",
    "ctx.add_basemap(ax, source=ctx.providers.Esri.WorldImagery, zoom=7, crs=geospatial_projection)\n",
    "\n",
    "# add thumbnail to corner of plot to show where the data is\n",
    "thumbnail_ax = inset_axes(ax, width=\"25%\", height=1.5, loc='upper left')\n",
    "\n",
    "# set extent of iceland for second axis in EPSG:3413\n",
    "thumbnail_ax.set_ylim(-2700000, -2200000)\n",
    "thumbnail_ax.set_xlim(900000, 1500000)\n",
    "thumbnail_ax.tick_params(bottom=False, left=False, labelbottom=False, labelleft=False)\n",
    "for spine in ['bottom', 'top', 'right', 'left']:\n",
    "    thumbnail_ax.spines[spine].set_color('red')\n",
    "  \n",
    "c = thumbnail_ax.scatter(gridded_product_data['x'],gridded_product_data['y'], c=gridded_product_data['elevation'], s=1, cmap='viridis')\n",
    "\n",
    "# set lower resolution background map for zoomed out plot of iceland\n",
    "ctx.add_basemap(thumbnail_ax, source=ctx.providers.Esri.WorldImagery, zoom=5, crs=geospatial_projection, attribution=False)"
   ]
  }
 ],
 "metadata": {
  "kernelspec": {
   "display_name": "cs2eo",
   "language": "python",
   "name": "python3"
  },
  "language_info": {
   "codemirror_mode": {
    "name": "ipython",
    "version": 3
   },
   "file_extension": ".py",
   "mimetype": "text/x-python",
   "name": "python",
   "nbconvert_exporter": "python",
   "pygments_lexer": "ipython3",
   "version": "3.9.7"
  },
  "orig_nbformat": 4
 },
 "nbformat": 4,
 "nbformat_minor": 2
}
