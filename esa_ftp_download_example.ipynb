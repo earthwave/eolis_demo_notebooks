{
 "cells": [
  {
   "cell_type": "code",
   "execution_count": null,
   "metadata": {},
   "outputs": [],
   "source": []
  }
 ],
 "metadata": {
  "kernelspec": {
   "display_name": "Python 3.9.7 ('ew_eolis')",
   "language": "python",
   "name": "python3"
  },
  "language_info": {
   "name": "python",
   "version": "3.9.7"
  },
  "orig_nbformat": 4,
  "vscode": {
   "interpreter": {
    "hash": "2acbfda774a9eee78609fae0795920b9a29a7265f1d42eeff10c43fa0d5c3170"
   }
  }
 },
 "nbformat": 4,
 "nbformat_minor": 2
}
