{
 "cells": [
  {
   "cell_type": "code",
   "execution_count": 1,
   "metadata": {},
   "outputs": [],
   "source": [
    "import os\n",
    "import platform\n",
    "from ftplib import FTP\n",
    "import sys"
   ]
  },
  {
   "cell_type": "code",
   "execution_count": 2,
   "metadata": {},
   "outputs": [],
   "source": [
    "esa_files =  ['/TEMPO_SWATH_GRID/2021/11/ICELAND/CS_OFFL_THEM_GRID__ICELAND___2021_11_V001.nc', '/TEMPO_SWATH_GRID/2022/03/ICELAND/CS_OFFL_THEM_GRID__ICELAND___2022_03_V001.nc', '/TEMPO_SWATH_GRID/2021/10/ICELAND/CS_OFFL_THEM_GRID__ICELAND___2021_10_V001.nc', '/TEMPO_SWATH_GRID/2022/02/ICELAND/CS_OFFL_THEM_GRID__ICELAND___2022_02_V001.nc', '/TEMPO_SWATH_GRID/2021/12/ICELAND/CS_OFFL_THEM_GRID__ICELAND___2021_12_V001.nc', '/TEMPO_SWATH_GRID/2022/01/ICELAND/CS_OFFL_THEM_GRID__ICELAND___2022_01_V001.nc']\n",
    "#esa_files =  ['/TEMPO_SWATH_POINT/2021/07/ICELAND/CS_OFFL_THEM_POINT_ICELAND___2021_07_+1300000__-2600000__V002.nc', '/TEMPO_SWATH_POINT/2022/01/ICELAND/CS_OFFL_THEM_POINT_ICELAND___2022_01_+1200000__-2600000__V002.nc', '/TEMPO_SWATH_POINT/2022/01/ICELAND/CS_OFFL_THEM_POINT_ICELAND___2022_01_+1100000__-2500000__V002.nc', '/TEMPO_SWATH_POINT/2021/09/ICELAND/CS_OFFL_THEM_POINT_ICELAND___2021_09_+1300000__-2600000__V002.nc', '/TEMPO_SWATH_POINT/2022/02/ICELAND/CS_OFFL_THEM_POINT_ICELAND___2022_02_+1200000__-2500000__V002.nc', '/TEMPO_SWATH_POINT/2022/03/ICELAND/CS_OFFL_THEM_POINT_ICELAND___2022_03_+1100000__-2500000__V002.nc', '/TEMPO_SWATH_POINT/2022/03/ICELAND/CS_OFFL_THEM_POINT_ICELAND___2022_03_+1300000__-2600000__V002.nc', '/TEMPO_SWATH_POINT/2021/12/ICELAND/CS_OFFL_THEM_POINT_ICELAND___2021_12_+1100000__-2500000__V002.nc', '/TEMPO_SWATH_POINT/2021/10/ICELAND/CS_OFFL_THEM_POINT_ICELAND___2021_10_+1300000__-2500000__V002.nc', '/TEMPO_SWATH_POINT/2021/09/ICELAND/CS_OFFL_THEM_POINT_ICELAND___2021_09_+1200000__-2500000__V002.nc', '/TEMPO_SWATH_POINT/2022/02/ICELAND/CS_OFFL_THEM_POINT_ICELAND___2022_02_+1300000__-2500000__V002.nc', '/TEMPO_SWATH_POINT/2021/09/ICELAND/CS_OFFL_THEM_POINT_ICELAND___2021_09_+1300000__-2500000__V002.nc', '/TEMPO_SWATH_POINT/2021/09/ICELAND/CS_OFFL_THEM_POINT_ICELAND___2021_09_+1200000__-2600000__V002.nc', '/TEMPO_SWATH_POINT/2021/12/ICELAND/CS_OFFL_THEM_POINT_ICELAND___2021_12_+1300000__-2400000__V002.nc', '/TEMPO_SWATH_POINT/2021/10/ICELAND/CS_OFFL_THEM_POINT_ICELAND___2021_10_+1300000__-2400000__V002.nc', '/TEMPO_SWATH_POINT/2022/04/ICELAND/CS_OFFL_THEM_POINT_ICELAND___2022_04_+1400000__-2400000__V002.nc', '/TEMPO_SWATH_POINT/2021/12/ICELAND/CS_OFFL_THEM_POINT_ICELAND___2021_12_+1200000__-2500000__V002.nc', '/TEMPO_SWATH_POINT/2021/07/ICELAND/CS_OFFL_THEM_POINT_ICELAND___2021_07_+1200000__-2600000__V002.nc', '/TEMPO_SWATH_POINT/2021/09/ICELAND/CS_OFFL_THEM_POINT_ICELAND___2021_09_+1100000__-2500000__V002.nc', '/TEMPO_SWATH_POINT/2021/11/ICELAND/CS_OFFL_THEM_POINT_ICELAND___2021_11_+1200000__-2500000__V002.nc', '/TEMPO_SWATH_POINT/2021/07/ICELAND/CS_OFFL_THEM_POINT_ICELAND___2021_07_+1300000__-2500000__V002.nc', '/TEMPO_SWATH_POINT/2021/11/ICELAND/CS_OFFL_THEM_POINT_ICELAND___2021_11_+1200000__-2600000__V002.nc', '/TEMPO_SWATH_POINT/2022/04/ICELAND/CS_OFFL_THEM_POINT_ICELAND___2022_04_+1300000__-2500000__V002.nc', '/TEMPO_SWATH_POINT/2021/08/ICELAND/CS_OFFL_THEM_POINT_ICELAND___2021_08_+1200000__-2600000__V002.nc', '/TEMPO_SWATH_POINT/2021/12/ICELAND/CS_OFFL_THEM_POINT_ICELAND___2021_12_+1200000__-2600000__V002.nc', '/TEMPO_SWATH_POINT/2022/02/ICELAND/CS_OFFL_THEM_POINT_ICELAND___2022_02_+1300000__-2400000__V002.nc', '/TEMPO_SWATH_POINT/2022/04/ICELAND/CS_OFFL_THEM_POINT_ICELAND___2022_04_+1200000__-2600000__V002.nc', '/TEMPO_SWATH_POINT/2021/07/ICELAND/CS_OFFL_THEM_POINT_ICELAND___2021_07_+1400000__-2400000__V002.nc', '/TEMPO_SWATH_POINT/2021/11/ICELAND/CS_OFFL_THEM_POINT_ICELAND___2021_11_+1300000__-2600000__V002.nc', '/TEMPO_SWATH_POINT/2021/08/ICELAND/CS_OFFL_THEM_POINT_ICELAND___2021_08_+1100000__-2500000__V002.nc', '/TEMPO_SWATH_POINT/2021/08/ICELAND/CS_OFFL_THEM_POINT_ICELAND___2021_08_+1300000__-2500000__V002.nc', '/TEMPO_SWATH_POINT/2022/03/ICELAND/CS_OFFL_THEM_POINT_ICELAND___2022_03_+1200000__-2600000__V002.nc', '/TEMPO_SWATH_POINT/2021/10/ICELAND/CS_OFFL_THEM_POINT_ICELAND___2021_10_+1300000__-2600000__V002.nc', '/TEMPO_SWATH_POINT/2021/10/ICELAND/CS_OFFL_THEM_POINT_ICELAND___2021_10_+1200000__-2600000__V002.nc', '/TEMPO_SWATH_POINT/2022/02/ICELAND/CS_OFFL_THEM_POINT_ICELAND___2022_02_+1200000__-2600000__V002.nc', '/TEMPO_SWATH_POINT/2021/11/ICELAND/CS_OFFL_THEM_POINT_ICELAND___2021_11_+1100000__-2500000__V002.nc', '/TEMPO_SWATH_POINT/2021/11/ICELAND/CS_OFFL_THEM_POINT_ICELAND___2021_11_+1300000__-2500000__V002.nc', '/TEMPO_SWATH_POINT/2021/08/ICELAND/CS_OFFL_THEM_POINT_ICELAND___2021_08_+1300000__-2600000__V002.nc', '/TEMPO_SWATH_POINT/2022/03/ICELAND/CS_OFFL_THEM_POINT_ICELAND___2022_03_+1300000__-2400000__V002.nc', '/TEMPO_SWATH_POINT/2021/09/ICELAND/CS_OFFL_THEM_POINT_ICELAND___2021_09_+1300000__-2400000__V002.nc', '/TEMPO_SWATH_POINT/2022/01/ICELAND/CS_OFFL_THEM_POINT_ICELAND___2022_01_+1200000__-2500000__V002.nc', '/TEMPO_SWATH_POINT/2021/10/ICELAND/CS_OFFL_THEM_POINT_ICELAND___2021_10_+1200000__-2500000__V002.nc', '/TEMPO_SWATH_POINT/2022/04/ICELAND/CS_OFFL_THEM_POINT_ICELAND___2022_04_+1100000__-2500000__V002.nc', '/TEMPO_SWATH_POINT/2021/08/ICELAND/CS_OFFL_THEM_POINT_ICELAND___2021_08_+1300000__-2400000__V002.nc', '/TEMPO_SWATH_POINT/2022/04/ICELAND/CS_OFFL_THEM_POINT_ICELAND___2022_04_+1300000__-2600000__V002.nc', '/TEMPO_SWATH_POINT/2021/07/ICELAND/CS_OFFL_THEM_POINT_ICELAND___2021_07_+1200000__-2500000__V002.nc', '/TEMPO_SWATH_POINT/2021/10/ICELAND/CS_OFFL_THEM_POINT_ICELAND___2021_10_+1100000__-2500000__V002.nc', '/TEMPO_SWATH_POINT/2022/03/ICELAND/CS_OFFL_THEM_POINT_ICELAND___2022_03_+1300000__-2500000__V002.nc', '/TEMPO_SWATH_POINT/2022/04/ICELAND/CS_OFFL_THEM_POINT_ICELAND___2022_04_+1200000__-2500000__V002.nc', '/TEMPO_SWATH_POINT/2021/08/ICELAND/CS_OFFL_THEM_POINT_ICELAND___2021_08_+1400000__-2400000__V002.nc', '/TEMPO_SWATH_POINT/2022/01/ICELAND/CS_OFFL_THEM_POINT_ICELAND___2022_01_+1300000__-2500000__V002.nc', '/TEMPO_SWATH_POINT/2022/02/ICELAND/CS_OFFL_THEM_POINT_ICELAND___2022_02_+1300000__-2600000__V002.nc', '/TEMPO_SWATH_POINT/2021/07/ICELAND/CS_OFFL_THEM_POINT_ICELAND___2021_07_+1100000__-2500000__V002.nc', '/TEMPO_SWATH_POINT/2021/08/ICELAND/CS_OFFL_THEM_POINT_ICELAND___2021_08_+1200000__-2500000__V002.nc', '/TEMPO_SWATH_POINT/2022/03/ICELAND/CS_OFFL_THEM_POINT_ICELAND___2022_03_+1200000__-2500000__V002.nc', '/TEMPO_SWATH_POINT/2021/12/ICELAND/CS_OFFL_THEM_POINT_ICELAND___2021_12_+1300000__-2500000__V002.nc', '/TEMPO_SWATH_POINT/2021/12/ICELAND/CS_OFFL_THEM_POINT_ICELAND___2021_12_+1300000__-2600000__V002.nc', '/TEMPO_SWATH_POINT/2022/02/ICELAND/CS_OFFL_THEM_POINT_ICELAND___2022_02_+1100000__-2500000__V002.nc', '/TEMPO_SWATH_POINT/2022/01/ICELAND/CS_OFFL_THEM_POINT_ICELAND___2022_01_+1300000__-2600000__V002.nc']\n",
    "\n",
    "download_file_obj = None\n",
    "read_byte_count = None\n",
    "total_byte_count = None"
   ]
  },
  {
   "cell_type": "code",
   "execution_count": 3,
   "metadata": {},
   "outputs": [],
   "source": [
    "def get_padded_count(count, max_count):\n",
    "    return  str(count).zfill(len(str(max_count)))\n",
    "\n",
    "\n",
    "def file_byte_handler(data):\n",
    "    global download_file_obj, read_byte_count, total_byte_count\n",
    "    download_file_obj.write(data)\n",
    "    read_byte_count = read_byte_count + len(data)\n",
    "    progress_bar(read_byte_count, total_byte_count)\n",
    "\n",
    "\n",
    "def progress_bar(progress, total, prefix=\"\", size=60, file=sys.stdout):\n",
    "    if total != 0:\n",
    "        x = int(size*progress/total)\n",
    "        x_percent = int(100*progress/total)\n",
    "        file.write(f\" {prefix} [{'='*x}{' '*(size-x)}] {x_percent} % \\r\")\n",
    "        file.flush()"
   ]
  },
  {
   "cell_type": "code",
   "execution_count": 4,
   "metadata": {},
   "outputs": [],
   "source": [
    "def download_files(user_email):\n",
    "    global download_file_obj, read_byte_count, total_byte_count, esa_files\n",
    "    print(\"About to connect to ESA science server\")\n",
    "    with FTP(\"science-pds.cryosat.esa.int\") as ftp:\n",
    "        try:\n",
    "            ftp.login(\"anonymous\", user_email)\n",
    "            print(\"Downloading {} files\".format(len(esa_files)))\n",
    "            \n",
    "            for i, filename in enumerate(esa_files):\n",
    "                padded_count = get_padded_count(i+1, len(esa_files))\n",
    "                print(\"{}/{}. Downloading file {}\".format(padded_count, len(esa_files), os.path.basename(filename)))\n",
    "                \n",
    "                with open(os.path.basename(filename), 'wb') as download_file:\n",
    "                    download_file_obj = download_file\n",
    "                    total_byte_count = ftp.size(filename)\n",
    "                    read_byte_count = 0\n",
    "                    ftp.retrbinary('RETR ' + filename, file_byte_handler, 1024)\n",
    "                print(\"\\n\")\n",
    "        finally:\n",
    "            print(\"Exiting FTP.\")\n",
    "            ftp.quit()"
   ]
  },
  {
   "cell_type": "code",
   "execution_count": 5,
   "metadata": {},
   "outputs": [
    {
     "name": "stdout",
     "output_type": "stream",
     "text": [
      "About to connect to ESA science server\n",
      "Downloading 6 files\n",
      "1/6. Downloading file CS_OFFL_THEM_GRID__ICELAND___2021_11_V001.nc\n",
      "  [============================================================] 100 % \n",
      "\n",
      "2/6. Downloading file CS_OFFL_THEM_GRID__ICELAND___2022_03_V001.nc\n",
      "  [============================================================] 100 % \n",
      "\n",
      "3/6. Downloading file CS_OFFL_THEM_GRID__ICELAND___2021_10_V001.nc\n",
      "  [============================================================] 100 % \n",
      "\n",
      "4/6. Downloading file CS_OFFL_THEM_GRID__ICELAND___2022_02_V001.nc\n",
      "  [============================================================] 100 % \n",
      "\n",
      "5/6. Downloading file CS_OFFL_THEM_GRID__ICELAND___2021_12_V001.nc\n",
      "  [============================================================] 100 % \n",
      "\n",
      "6/6. Downloading file CS_OFFL_THEM_GRID__ICELAND___2022_01_V001.nc\n",
      "  [============================================================] 100 % \n",
      "\n",
      "Exiting FTP.\n"
     ]
    }
   ],
   "source": [
    "if __name__ == '__main__':\n",
    "    if int(platform.python_version_tuple()[0]) < 3:\n",
    "        exit(\"Your Python version is {}. Please use version 3.0 or higher.\".format(platform.python_version()))\n",
    "\n",
    "    email = input(\"Please enter your e-mail: \")\n",
    "    \n",
    "    download_files(email)"
   ]
  }
 ],
 "metadata": {
  "kernelspec": {
   "display_name": "Python 3.9.7 ('ew_eolis')",
   "language": "python",
   "name": "python3"
  },
  "language_info": {
   "codemirror_mode": {
    "name": "ipython",
    "version": 3
   },
   "file_extension": ".py",
   "mimetype": "text/x-python",
   "name": "python",
   "nbconvert_exporter": "python",
   "pygments_lexer": "ipython3",
   "version": "3.9.7"
  },
  "orig_nbformat": 4,
  "vscode": {
   "interpreter": {
    "hash": "2acbfda774a9eee78609fae0795920b9a29a7265f1d42eeff10c43fa0d5c3170"
   }
  }
 },
 "nbformat": 4,
 "nbformat_minor": 2
}
