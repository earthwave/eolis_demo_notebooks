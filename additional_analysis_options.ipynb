{
 "cells": [
  {
   "cell_type": "code",
   "execution_count": null,
   "metadata": {},
   "outputs": [],
   "source": [
    "fig, axs = plt.subplots(1,3, figsize=(35, 10))\n",
    "a=axs[0].scatter(dem_list[0]['x'], dem_list[0]['y'], c=dem_list[0]['elevation'], s=30, cmap='viridis', vmin = 50, vmax = 3000)\n",
    "plt.colorbar(a, ax=axs[0], label='Elevation [m]')\n",
    "axs[0].set_title(f'DEM for {region}, {str(dates[0].date())}')\n",
    "\n",
    "b=axs[1].scatter(dem_list[-1]['x'], dem_list[-1]['y'], c=dem_list[1]['elevation'], s=30, cmap='viridis', vmin = 50 ,vmax = 3000)\n",
    "plt.colorbar(b, ax=axs[1], label='Elevation [m]')\n",
    "axs[1].set_title(f'DEM for {region}, {str(dates[-1].date())}')\n",
    "\n",
    "c=axs[2].scatter(dem_list[-1]['x'], dem_list[-1]['y'], c=dem_list[-1]['elevation']-dem_list[0]['elevation'], s=30, cmap='viridis', vmin = -50, vmax = 50)\n",
    "plt.colorbar(c, ax=axs[2], label='Elevation Change [m]')\n",
    "axs[2].set_title(f'Difference in elevation ({dates[0].strftime(\"%m/%Y\")} - {dates[-1].strftime(\"%m/%Y\")})')\n",
    "\n",
    "for i in range(len(axs)):\n",
    "    axs[i].set_xlabel('x [m]')\n",
    "    axs[i].set_ylabel('y [m]')"
   ]
  }
 ],
 "metadata": {
  "language_info": {
   "name": "python"
  },
  "orig_nbformat": 4
 },
 "nbformat": 4,
 "nbformat_minor": 2
}
